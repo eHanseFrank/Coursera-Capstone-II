{
 "cells": [
  {
   "cell_type": "markdown",
   "metadata": {},
   "source": [
    "# Neighborhood comparison - Hong Kong vs Bogota"
   ]
  },
  {
   "cell_type": "markdown",
   "metadata": {},
   "source": [
    "### Topic\n",
    "Cities differ in their venue profile. Some cities have unusually many dance clubs but less cafes while other cities have completely other types of venues to offer. In this mini-project Foursquare API and the KNN clustering procedure as introduced in Week 3 of the course will applied onto two cities of similar population - Hong Kong and Bogota. The idea is to see how similar these two cieties are by characterizing (labeling) neighborhoods with regards to their venue profile."
   ]
  },
  {
   "cell_type": "markdown",
   "metadata": {},
   "source": [
    "### Relevance\n",
    "Audience of this work could be the executive management of a leading coffee-snack bar franchise that looks into expanding into a new area. For example such a company originating from Hong Kong could evaluate the attractiveness of Bogota as a new market for cafes by comparing the venue profiles of boh cities."
   ]
  },
  {
   "cell_type": "markdown",
   "metadata": {},
   "source": [
    "### General approach for the investigation\n",
    "The first step is to find data on the neighborhoods of these two cities. It can be assumed that kaggle and wikipedia will provide relevant data.\n",
    "\n",
    "Once this is done, Fourquare API will be used to find venues for each neighborhood and separately for each city.\n",
    "After further data preparation, the data for both cities will be merged into one data frame. Then, the K-Means algorithm for clustering and labeling will be applied.\n",
    "\n",
    "Using the labels in the new column, the data can now be further analyzed: The overall city similarity can be visualized using bar charts. The data can also be further filtered for neighborhoods of the labels where cafes pre-dominate."
   ]
  }
 ],
 "metadata": {
  "kernelspec": {
   "display_name": "ds-ibm_lab",
   "language": "python",
   "name": "ds-ibm_lab"
  },
  "language_info": {
   "codemirror_mode": {
    "name": "ipython",
    "version": 3
   },
   "file_extension": ".py",
   "mimetype": "text/x-python",
   "name": "python",
   "nbconvert_exporter": "python",
   "pygments_lexer": "ipython3",
   "version": "3.6.10"
  }
 },
 "nbformat": 4,
 "nbformat_minor": 4
}
