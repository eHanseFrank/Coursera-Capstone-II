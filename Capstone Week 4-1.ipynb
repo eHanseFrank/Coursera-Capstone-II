{
 "cells": [
  {
   "cell_type": "markdown",
   "metadata": {},
   "source": [
    "# Neighborhood comparison - Hong Kong vs Bogota"
   ]
  },
  {
   "cell_type": "markdown",
   "metadata": {},
   "source": [
    "### The problem and it's relevance\n",
    "Many people will automatically assume that these two cities are obviously very different from one another. Not only geographical data is very distinct: Bogota being a city  built on a flat plateau in the Andes at 2000m above sea level while Hong Kong is located at the coast on a hilly landscape. But also the cultural background of their local population is quite different.\n",
    "\n",
    "Nevertheless, for young independent people originating from Europe with ambition to add international working experience to their CV, both destinations are interesting. Furthermore, for young people the main amenities of living in a city might be the venues available in the city.\n",
    "With this in mind, this work will investigate the difference between those two cities with regards of the venues they have to offer to young workforce.\n",
    "\n"
   ]
  },
  {
   "cell_type": "markdown",
   "metadata": {},
   "source": [
    "### General approach for the investigation"
   ]
  },
  {
   "cell_type": "markdown",
   "metadata": {},
   "source": [
    "The first step is to find data on the neighborhoods of these two cities. Once this is done, Fourquare API will be used to find venues for each neighborhood. Then the procedure of labeling and clustering as shown in Week 3 will be used to characterize the neighborhoods. But with a major difference: Before appyling KNN algorithm, the explored and processed data from each city will be merged. Then the algorithm will be applied.\n",
    "\n",
    "In order to understand the difference of the neighborhoods, the labels will be further explored with regards to the city they refer to. A bar chart will show the labels along the x-axis. Each bar will show the percentage of total neighborhoods belonging either to Bogota or Hong Kong. If the bars show an even split, the assumption can be made that the neighborhoods of both cities have the same venue profile. If the bar splits are very uneven, the neighborhoods have very different venues."
   ]
  },
  {
   "cell_type": "code",
   "execution_count": null,
   "metadata": {},
   "outputs": [],
   "source": []
  }
 ],
 "metadata": {
  "kernelspec": {
   "display_name": "ds-ibm_lab",
   "language": "python",
   "name": "ds-ibm_lab"
  },
  "language_info": {
   "codemirror_mode": {
    "name": "ipython",
    "version": 3
   },
   "file_extension": ".py",
   "mimetype": "text/x-python",
   "name": "python",
   "nbconvert_exporter": "python",
   "pygments_lexer": "ipython3",
   "version": "3.6.10"
  }
 },
 "nbformat": 4,
 "nbformat_minor": 4
}
